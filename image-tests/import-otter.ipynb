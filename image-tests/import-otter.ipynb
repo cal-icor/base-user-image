{
 "cells": [
  {
   "cell_type": "code",
   "execution_count": 1,
   "id": "be0b13e9-a45a-4bec-bb73-1456d68420a4",
   "metadata": {},
   "outputs": [],
   "source": [
    "import otter"
   ]
  }
 ],
 "metadata": {
  "kernelspec": {
   "display_name": "Python 3 (ipykernel)",
   "language": "python",
   "name": "python3"
  },
  "language_info": {
   "codemirror_mode": {
    "name": "ipython",
    "version": 3
   },
   "file_extension": ".py",
   "mimetype": "text/x-python",
   "name": "python",
   "nbconvert_exporter": "python",
   "pygments_lexer": "ipython3",
   "version": "3.11.11"
  }
 },
 "nbformat": 4,
 "nbformat_minor": 5
}
